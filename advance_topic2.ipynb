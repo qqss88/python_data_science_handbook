{
 "cells": [
  {
   "cell_type": "code",
   "execution_count": 1,
   "metadata": {
    "collapsed": false
   },
   "outputs": [
    {
     "name": "stdout",
     "output_type": "stream",
     "text": [
      "<type 'list'>\n"
     ]
    }
   ],
   "source": [
    "print type(range(10))"
   ]
  },
  {
   "cell_type": "code",
   "execution_count": 3,
   "metadata": {
    "collapsed": false
   },
   "outputs": [
    {
     "name": "stdout",
     "output_type": "stream",
     "text": [
      "<type 'xrange'>\n"
     ]
    }
   ],
   "source": [
    "print type(xrange(10))"
   ]
  },
  {
   "cell_type": "code",
   "execution_count": 5,
   "metadata": {
    "collapsed": false
   },
   "outputs": [
    {
     "name": "stdout",
     "output_type": "stream",
     "text": [
      "0\n",
      "1\n",
      "2\n",
      "3\n",
      "4\n",
      "5\n",
      "6\n",
      "7\n",
      "8\n",
      "9\n"
     ]
    }
   ],
   "source": [
    "for i in xrange(10):\n",
    "    print i"
   ]
  },
  {
   "cell_type": "code",
   "execution_count": 8,
   "metadata": {
    "collapsed": false
   },
   "outputs": [
    {
     "name": "stdout",
     "output_type": "stream",
     "text": [
      "0,\n",
      "1,\n",
      "2,\n",
      "3,\n",
      "4,\n",
      "5,\n",
      "6,\n",
      "7,\n",
      "8,\n",
      "9,\n"
     ]
    }
   ],
   "source": [
    "from itertools import count \n",
    "for i in count(): \n",
    "    if i >= 10: \n",
    "        break \n",
    "    print str(i)+','\n",
    "\n"
   ]
  },
  {
   "cell_type": "code",
   "execution_count": 10,
   "metadata": {
    "collapsed": false
   },
   "outputs": [
    {
     "name": "stdout",
     "output_type": "stream",
     "text": [
      "iter1:\n",
      "(0, 2)\n",
      "(1, 4)\n",
      "(2, 6)\n",
      "(3, 8)\n",
      "(4, 10)\n",
      "iter2:\n",
      "0 2\n",
      "1 4\n",
      "2 6\n",
      "3 8\n",
      "4 10\n"
     ]
    }
   ],
   "source": [
    "#usefule iterators\n",
    "def iter1(my_list):\n",
    "    for i in range(len(my_list)): \n",
    "        print( i, my_list[i])\n",
    "\n",
    "def iter2(my_list):\n",
    "    for i, valu in enumerate(my_list):\n",
    "        print i, valu\n",
    "\n",
    "my_list = [2, 4, 6, 8, 10]\n",
    "\n",
    "print 'iter1:'\n",
    "iter1(my_list)\n",
    "\n",
    "print 'iter2:'\n",
    "iter2(my_list)\n"
   ]
  },
  {
   "cell_type": "code",
   "execution_count": 14,
   "metadata": {
    "collapsed": false
   },
   "outputs": [
    {
     "name": "stdout",
     "output_type": "stream",
     "text": [
      "(2, 3)\n",
      "(4, 6)\n",
      "(6, 9)\n",
      "(8, 12)\n",
      "(10, 15)\n",
      "zipping and making a dictionary:\n",
      "{8: 12, 2: 3, 4: 6, 10: 15, 6: 9}\n"
     ]
    }
   ],
   "source": [
    "#zipping demo\n",
    "\n",
    "L = [2, 4, 6, 8, 10] \n",
    "R = [3, 6, 9, 12, 15] \n",
    "for lval, rval in zip(L, R): \n",
    "    print( lval, rval)\n",
    "\n",
    "print 'zipping and making a dictionary:'\n",
    "print dict(zip(L, R))"
   ]
  },
  {
   "cell_type": "code",
   "execution_count": 15,
   "metadata": {
    "collapsed": false
   },
   "outputs": [
    {
     "name": "stdout",
     "output_type": "stream",
     "text": [
      "0\n",
      "1\n",
      "4\n",
      "9\n",
      "16\n",
      "25\n",
      "36\n",
      "49\n",
      "64\n",
      "81\n"
     ]
    }
   ],
   "source": [
    "#mapping\n",
    "square = lambda x:x**2\n",
    "for val in map(square, range(10)): \n",
    "    print val\n",
    "\n"
   ]
  },
  {
   "cell_type": "code",
   "execution_count": 16,
   "metadata": {
    "collapsed": false
   },
   "outputs": [
    {
     "name": "stdout",
     "output_type": "stream",
     "text": [
      "0\n",
      "1\n",
      "4\n",
      "9\n",
      "16\n",
      "25\n",
      "36\n",
      "49\n",
      "64\n",
      "81\n"
     ]
    }
   ],
   "source": [
    "for val in map(lambda x:x**2, range(10)): \n",
    "    print val"
   ]
  },
  {
   "cell_type": "code",
   "execution_count": 20,
   "metadata": {
    "collapsed": false
   },
   "outputs": [
    {
     "name": "stdout",
     "output_type": "stream",
     "text": [
      "0\n",
      "2\n",
      "4\n",
      "6\n",
      "8\n",
      "run it again:\n",
      "0\n",
      "2\n",
      "4\n",
      "6\n",
      "8\n"
     ]
    }
   ],
   "source": [
    "is_even = lambda x: x%2 == 0 \n",
    "for val in filter(is_even, range( 10)): \n",
    "    print val\n",
    "\n",
    "print 'run it again:'\n",
    "for val in filter(lambda x:x%2==0, range(10)):\n",
    "    print val"
   ]
  },
  {
   "cell_type": "code",
   "execution_count": 21,
   "metadata": {
    "collapsed": false
   },
   "outputs": [
    {
     "name": "stdout",
     "output_type": "stream",
     "text": [
      "[0, 1, 2, 3, 4, 5, 6, 7, 8, 9]\n"
     ]
    }
   ],
   "source": [
    "print range(10)"
   ]
  },
  {
   "cell_type": "code",
   "execution_count": 22,
   "metadata": {
    "collapsed": false
   },
   "outputs": [
    {
     "name": "stdout",
     "output_type": "stream",
     "text": [
      "[0, 1, 8, 27, 64, 125, 216, 343, 512, 729]\n"
     ]
    }
   ],
   "source": [
    "print map(lambda x:x*x*x, range(10))"
   ]
  },
  {
   "cell_type": "code",
   "execution_count": 23,
   "metadata": {
    "collapsed": false
   },
   "outputs": [
    {
     "name": "stdout",
     "output_type": "stream",
     "text": [
      "[6, 7, 8, 9]\n"
     ]
    }
   ],
   "source": [
    "print filter(lambda x:x*x*x>=150, range(10))"
   ]
  },
  {
   "cell_type": "code",
   "execution_count": 24,
   "metadata": {
    "collapsed": false
   },
   "outputs": [
    {
     "name": "stdout",
     "output_type": "stream",
     "text": [
      "[125, 216, 343, 512, 729]\n"
     ]
    }
   ],
   "source": [
    "print filter(lambda x:x>100, map(lambda x:x*x*x, range(10)))"
   ]
  },
  {
   "cell_type": "code",
   "execution_count": 29,
   "metadata": {
    "collapsed": false
   },
   "outputs": [
    {
     "name": "stdout",
     "output_type": "stream",
     "text": [
      "[(1, ' a'), (2, 'b'), (3, 'c'), (4, 'd')]\n",
      "[(1, 2, 3, 4), (' a', 'b', 'c', 'd')]\n",
      "(1, 2, 3, 4) (' a', 'b', 'c', 'd')\n"
     ]
    }
   ],
   "source": [
    "#spin your head with zipping\n",
    "L1 = (1, 2, 3, 4) \n",
    "L2 = (' a', 'b', 'c', 'd') \n",
    "z = zip( L1, L2)\n",
    "print z\n",
    "\n",
    "z2 = zip(*z)\n",
    "print z2\n",
    "\n",
    "new_L1, new_L2 = zip(*z)\n",
    "print new_L1, new_L2\n",
    "\n"
   ]
  },
  {
   "cell_type": "code",
   "execution_count": 33,
   "metadata": {
    "collapsed": false
   },
   "outputs": [
    {
     "name": "stdout",
     "output_type": "stream",
     "text": [
      "permutation demo:\n",
      "(0, 1, 2)\n",
      "(0, 2, 1)\n",
      "(1, 0, 2)\n",
      "(1, 2, 0)\n",
      "(2, 0, 1)\n",
      "(2, 1, 0)\n",
      "combination demo:\n",
      "(0, 1)\n",
      "(0, 2)\n",
      "(0, 3)\n",
      "(1, 2)\n",
      "(1, 3)\n",
      "(2, 3)\n",
      "product demo:\n",
      "('a', 0)\n",
      "('a', 1)\n",
      "('a', 2)\n",
      "('b', 0)\n",
      "('b', 1)\n",
      "('b', 2)\n"
     ]
    }
   ],
   "source": [
    "#advanced iterators\n",
    "\n",
    "from itertools import permutations\n",
    "\n",
    "print 'permutation demo:'\n",
    "p = permutations(range(3))\n",
    "for m in p:\n",
    "    print m\n",
    "\n",
    "from itertools import combinations \n",
    "print 'combination demo:'\n",
    "c = combinations(range( 4), 2)\n",
    "for m in c:\n",
    "    print m\n",
    "    \n",
    "from itertools import product \n",
    "print 'product demo:'\n",
    "p = product('ab', range( 3))\n",
    "for m in p:\n",
    "    print m\n",
    "\n",
    "\n",
    "\n",
    "\n"
   ]
  }
 ],
 "metadata": {
  "kernelspec": {
   "display_name": "Python 2",
   "language": "python",
   "name": "python2"
  },
  "language_info": {
   "codemirror_mode": {
    "name": "ipython",
    "version": 2
   },
   "file_extension": ".py",
   "mimetype": "text/x-python",
   "name": "python",
   "nbconvert_exporter": "python",
   "pygments_lexer": "ipython2",
   "version": "2.7.10"
  }
 },
 "nbformat": 4,
 "nbformat_minor": 0
}
