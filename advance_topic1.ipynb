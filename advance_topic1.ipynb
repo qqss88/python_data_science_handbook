{
 "cells": [
  {
   "cell_type": "code",
   "execution_count": 1,
   "metadata": {
    "collapsed": false
   },
   "outputs": [
    {
     "name": "stdout",
     "output_type": "stream",
     "text": [
      "(' Error class is: ', <type 'exceptions.ZeroDivisionError'>)\n",
      "(' Error message is:', ZeroDivisionError('integer division or modulo by zero',))\n"
     ]
    }
   ],
   "source": [
    "#accessing error message\n",
    "try:\n",
    "    1/0\n",
    "except ZeroDivisionError as err: \n",
    "    print(\" Error class is: \", type( err)) \n",
    "    print(\" Error message is:\", err)\n",
    "\n"
   ]
  },
  {
   "cell_type": "code",
   "execution_count": 2,
   "metadata": {
    "collapsed": false
   },
   "outputs": [
    {
     "ename": "MySpecialError",
     "evalue": "demo of special error",
     "output_type": "error",
     "traceback": [
      "\u001b[0;31m---------------------------------------------------------------------------\u001b[0m",
      "\u001b[0;31mMySpecialError\u001b[0m                            Traceback (most recent call last)",
      "\u001b[0;32m<ipython-input-2-bd562c4d7dda>\u001b[0m in \u001b[0;36m<module>\u001b[0;34m()\u001b[0m\n\u001b[1;32m      2\u001b[0m     \u001b[0;32mpass\u001b[0m\u001b[0;34m\u001b[0m\u001b[0m\n\u001b[1;32m      3\u001b[0m \u001b[0;34m\u001b[0m\u001b[0m\n\u001b[0;32m----> 4\u001b[0;31m \u001b[0;32mraise\u001b[0m \u001b[0mMySpecialError\u001b[0m\u001b[0;34m(\u001b[0m\u001b[0;34m'demo of special error'\u001b[0m\u001b[0;34m)\u001b[0m\u001b[0;34m\u001b[0m\u001b[0m\n\u001b[0m",
      "\u001b[0;31mMySpecialError\u001b[0m: demo of special error"
     ]
    }
   ],
   "source": [
    "class MySpecialError(ValueError):\n",
    "    pass\n",
    "\n",
    "raise MySpecialError('demo of special error')"
   ]
  },
  {
   "cell_type": "code",
   "execution_count": 4,
   "metadata": {
    "collapsed": false
   },
   "outputs": [
    {
     "name": "stdout",
     "output_type": "stream",
     "text": [
      " raising sepcial error\n",
      "this is the error message, make it meaningful.\n",
      " special error caught.\n"
     ]
    },
    {
     "name": "stderr",
     "output_type": "stream",
     "text": [
      "/Users/qqss88/anaconda/lib/python2.7/site-packages/ipykernel/__main__.py:5: DeprecationWarning: BaseException.message has been deprecated as of Python 2.6\n"
     ]
    }
   ],
   "source": [
    "try: \n",
    "    print(\" raising sepcial error\") \n",
    "    raise MySpecialError(\"this is the error message, make it meaningful.\") \n",
    "except MySpecialError as err:\n",
    "    print err.message\n",
    "    print(\" special error caught.\")\n",
    "\n"
   ]
  },
  {
   "cell_type": "code",
   "execution_count": 5,
   "metadata": {
    "collapsed": false
   },
   "outputs": [
    {
     "name": "stdout",
     "output_type": "stream",
     "text": [
      " try something here\n",
      " this happens only if it succeeds\n",
      " this happens no matter what\n"
     ]
    }
   ],
   "source": [
    "try: \n",
    "    print(\" try something here\") \n",
    "except: \n",
    "    print(\" this happens only if it fails\") \n",
    "else: \n",
    "    print(\" this happens only if it succeeds\") \n",
    "finally: \n",
    "    print(\" this happens no matter what\")\n",
    "\n"
   ]
  },
  {
   "cell_type": "code",
   "execution_count": 9,
   "metadata": {
    "collapsed": false
   },
   "outputs": [
    {
     "name": "stdout",
     "output_type": "stream",
     "text": [
      " try something here\n",
      " this happens no matter what\n"
     ]
    },
    {
     "ename": "ZeroDivisionError",
     "evalue": "integer division or modulo by zero",
     "output_type": "error",
     "traceback": [
      "\u001b[0;31m---------------------------------------------------------------------------\u001b[0m",
      "\u001b[0;31mZeroDivisionError\u001b[0m                         Traceback (most recent call last)",
      "\u001b[0;32m<ipython-input-9-7651b2e160d9>\u001b[0m in \u001b[0;36m<module>\u001b[0;34m()\u001b[0m\n\u001b[1;32m      2\u001b[0m \u001b[0;34m\u001b[0m\u001b[0m\n\u001b[1;32m      3\u001b[0m     \u001b[0;32mprint\u001b[0m\u001b[0;34m(\u001b[0m\u001b[0;34m\" try something here\"\u001b[0m\u001b[0;34m)\u001b[0m\u001b[0;34m\u001b[0m\u001b[0m\n\u001b[0;32m----> 4\u001b[0;31m     \u001b[0;36m1\u001b[0m\u001b[0;34m/\u001b[0m\u001b[0;36m0\u001b[0m\u001b[0;34m\u001b[0m\u001b[0m\n\u001b[0m\u001b[1;32m      5\u001b[0m \u001b[0;32mexcept\u001b[0m \u001b[0mRuntimeError\u001b[0m \u001b[0;32mas\u001b[0m \u001b[0merr\u001b[0m\u001b[0;34m:\u001b[0m\u001b[0;34m\u001b[0m\u001b[0m\n\u001b[1;32m      6\u001b[0m     \u001b[0;32mprint\u001b[0m \u001b[0merr\u001b[0m\u001b[0;34m.\u001b[0m\u001b[0mmessage\u001b[0m\u001b[0;34m\u001b[0m\u001b[0m\n",
      "\u001b[0;31mZeroDivisionError\u001b[0m: integer division or modulo by zero"
     ]
    }
   ],
   "source": [
    "try: \n",
    "    \n",
    "    print(\" try something here\")\n",
    "    1/0\n",
    "except RuntimeError as err: \n",
    "    print err.message\n",
    "    print(\" this happens only if it fails\") \n",
    "else: \n",
    "    print(\" this happens only if it succeeds\") \n",
    "finally: \n",
    "    print(\" this happens no matter what\")"
   ]
  },
  {
   "cell_type": "code",
   "execution_count": 10,
   "metadata": {
    "collapsed": false
   },
   "outputs": [
    {
     "data": {
      "text/plain": [
       "3334.8333333333335"
      ]
     },
     "execution_count": 10,
     "metadata": {},
     "output_type": "execute_result"
    }
   ],
   "source": [
    "import numpy \n",
    "#assume 9999 is a sentinel replacement of missing data\n",
    "data = numpy.array([ 1.0, 3.5, 9999, 2.1, 4.4, 9999])\n",
    "numpy.mean(data)\n",
    "\n"
   ]
  },
  {
   "cell_type": "code",
   "execution_count": 12,
   "metadata": {
    "collapsed": false
   },
   "outputs": [
    {
     "data": {
      "text/plain": [
       "2.75"
      ]
     },
     "execution_count": 12,
     "metadata": {},
     "output_type": "execute_result"
    }
   ],
   "source": [
    "data2 = numpy.array([ 1.0, 3.5, numpy.nan, 2.1, 4.4, numpy.nan])\n",
    "numpy.nanmean(data2)\n",
    "\n"
   ]
  },
  {
   "cell_type": "code",
   "execution_count": 14,
   "metadata": {
    "collapsed": false
   },
   "outputs": [
    {
     "data": {
      "text/plain": [
       "2.75"
      ]
     },
     "execution_count": 14,
     "metadata": {},
     "output_type": "execute_result"
    }
   ],
   "source": [
    "import pandas \n",
    "def convert_to_nan_rep(data): \n",
    "    data[data==9999] = numpy.nan \n",
    "    \n",
    "def convert_to_9999_rep(data): \n",
    "    data[ pandas.isnull(data)] = 9999\n",
    "\n",
    "def safe_mean( data): \n",
    "    convert_to_nan_rep(data) \n",
    "    ret = numpy.nanmean(data) \n",
    "    convert_to_9999_rep(data) \n",
    "    return ret\n",
    "\n",
    "safe_mean(data)"
   ]
  },
  {
   "cell_type": "code",
   "execution_count": 16,
   "metadata": {
    "collapsed": false
   },
   "outputs": [
    {
     "data": {
      "text/plain": [
       "2.75"
      ]
     },
     "execution_count": 16,
     "metadata": {},
     "output_type": "execute_result"
    }
   ],
   "source": [
    "#re-define function with try ... finally\n",
    "def safe_mean(data): \n",
    "    convert_to_nan_rep(data) \n",
    "    try: \n",
    "        return numpy.nanmean(data) \n",
    "    finally: \n",
    "        convert_to_9999_rep(data)\n",
    "\n",
    "safe_mean(data)"
   ]
  },
  {
   "cell_type": "code",
   "execution_count": 18,
   "metadata": {
    "collapsed": false
   },
   "outputs": [
    {
     "name": "stdout",
     "output_type": "stream",
     "text": [
      " failed\n",
      "[1 2 9999 3 'dog']\n"
     ]
    }
   ],
   "source": [
    "bad_data = numpy.array([ 1, 2, 9999, 3, 'dog'], dtype = object) \n",
    "try: \n",
    "    safe_mean( bad_data) \n",
    "except: \n",
    "    print(' failed') \n",
    "\n",
    "print bad_data"
   ]
  },
  {
   "cell_type": "code",
   "execution_count": null,
   "metadata": {
    "collapsed": true
   },
   "outputs": [],
   "source": []
  }
 ],
 "metadata": {
  "kernelspec": {
   "display_name": "Python 2",
   "language": "python",
   "name": "python2"
  },
  "language_info": {
   "codemirror_mode": {
    "name": "ipython",
    "version": 2
   },
   "file_extension": ".py",
   "mimetype": "text/x-python",
   "name": "python",
   "nbconvert_exporter": "python",
   "pygments_lexer": "ipython2",
   "version": "2.7.10"
  }
 },
 "nbformat": 4,
 "nbformat_minor": 0
}
